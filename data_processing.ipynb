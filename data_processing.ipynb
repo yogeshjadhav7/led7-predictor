{
 "cells": [
  {
   "cell_type": "code",
   "execution_count": 1,
   "metadata": {},
   "outputs": [],
   "source": [
    "import os\n",
    "import pandas as pd\n",
    "import numpy as np\n",
    "import warnings\n",
    "warnings.filterwarnings(\"ignore\")\n",
    "\n",
    "DATA_COLUMNS = [\"A\",\"B\",\"C\",\"D\",\"E\",\"F\",\"G\",\"DIGIT\"]\n",
    "leds = np.array([[1,1,1,1,1,1,0],\n",
    "                     [0,1,1,0,0,0,0],\n",
    "                     [1,1,0,1,1,0,1],\n",
    "                     [1,1,1,1,0,0,1],\n",
    "                     [0,0,1,0,0,1,1],\n",
    "                     [1,0,1,1,0,1,1],\n",
    "                     [1,0,1,1,1,1,1],\n",
    "                     [1,1,1,0,0,0,0],\n",
    "                     [1,1,1,1,1,1,1],\n",
    "                     [1,1,1,1,0,1,1]\n",
    "                    ])\n",
    "\n",
    "input_data = []\n",
    "for indx in range(len(leds)):\n",
    "    led = [np.append(leds[indx], indx)]\n",
    "    if len(input_data) == 0:\n",
    "        input_data = led\n",
    "    else:\n",
    "        input_data = np.concatenate((input_data, led), axis=0)"
   ]
  },
  {
   "cell_type": "code",
   "execution_count": 2,
   "metadata": {},
   "outputs": [],
   "source": [
    "leds_strength = np.sum(leds, axis=1)"
   ]
  },
  {
   "cell_type": "code",
   "execution_count": 3,
   "metadata": {},
   "outputs": [],
   "source": [
    "leds_importance = np.divide(leds, leds_strength[:,None])\n",
    "total_leds_importance = np.sum(leds_importance, axis=0)"
   ]
  },
  {
   "cell_type": "code",
   "execution_count": 4,
   "metadata": {},
   "outputs": [],
   "source": [
    "leds_relative_importance = np.divide(leds_importance, total_leds_importance)"
   ]
  },
  {
   "cell_type": "code",
   "execution_count": 5,
   "metadata": {},
   "outputs": [
    {
     "name": "stdout",
     "output_type": "stream",
     "text": [
      "0 [0.10574018 0.09749304 0.07543103 0.13409962 0.24647887 0.1417004\n",
      " 0.        ]\n",
      "1 [0.         0.29247911 0.2262931  0.         0.         0.\n",
      " 0.        ]\n",
      "2 [0.12688822 0.11699164 0.         0.16091954 0.29577465 0.\n",
      " 0.14189189]\n",
      "3 [0.12688822 0.11699164 0.09051724 0.16091954 0.         0.\n",
      " 0.14189189]\n",
      "4 [0.         0.         0.15086207 0.         0.         0.28340081\n",
      " 0.23648649]\n",
      "5 [0.12688822 0.         0.09051724 0.16091954 0.         0.17004049\n",
      " 0.14189189]\n",
      "6 [0.10574018 0.         0.07543103 0.13409962 0.24647887 0.1417004\n",
      " 0.11824324]\n",
      "7 [0.21148036 0.19498607 0.15086207 0.         0.         0.\n",
      " 0.        ]\n",
      "8 [0.09063444 0.08356546 0.06465517 0.11494253 0.21126761 0.12145749\n",
      " 0.10135135]\n",
      "9 [0.10574018 0.09749304 0.07543103 0.13409962 0.         0.1417004\n",
      " 0.11824324]\n"
     ]
    }
   ],
   "source": [
    "for indx in range(len(leds_relative_importance)):\n",
    "    led = leds_relative_importance[indx]\n",
    "    print(indx, led)"
   ]
  },
  {
   "cell_type": "code",
   "execution_count": 6,
   "metadata": {},
   "outputs": [],
   "source": [
    "def find_2_least_important_segments(l):\n",
    "    leds = l.copy()\n",
    "    leds[leds == 0] = 2\n",
    "    least_important_segments = []\n",
    "    for indx in range(len(leds)):\n",
    "        led = leds[indx]\n",
    "        seg1 = led.argmin()\n",
    "        led[seg1] = 2\n",
    "        seg2 = led.argmin()\n",
    "        least_important_segments.append((seg1, seg2))\n",
    "        \n",
    "    return least_important_segments \n",
    "    "
   ]
  },
  {
   "cell_type": "code",
   "execution_count": 7,
   "metadata": {},
   "outputs": [],
   "source": [
    "least_imp_segs = find_2_least_important_segments(leds_relative_importance)"
   ]
  },
  {
   "cell_type": "code",
   "execution_count": 8,
   "metadata": {},
   "outputs": [
    {
     "data": {
      "text/plain": [
       "[(2, 1),\n",
       " (2, 1),\n",
       " (1, 0),\n",
       " (2, 1),\n",
       " (2, 6),\n",
       " (2, 0),\n",
       " (2, 0),\n",
       " (2, 1),\n",
       " (2, 1),\n",
       " (2, 1)]"
      ]
     },
     "execution_count": 8,
     "metadata": {},
     "output_type": "execute_result"
    }
   ],
   "source": [
    "least_imp_segs"
   ]
  },
  {
   "cell_type": "code",
   "execution_count": 48,
   "metadata": {},
   "outputs": [],
   "source": [
    "def stringify_array(arr):\n",
    "    arr = arr.flatten()\n",
    "    array_str = None\n",
    "    for val in arr:\n",
    "        if array_str == None:\n",
    "            array_str = str(val)\n",
    "        else:\n",
    "            array_str = array_str + \",\" + str(val)\n",
    "    \n",
    "    return array_str"
   ]
  },
  {
   "cell_type": "code",
   "execution_count": 49,
   "metadata": {},
   "outputs": [
    {
     "name": "stdout",
     "output_type": "stream",
     "text": [
      "Clash2 1,0,0,1,1,1,1 6 8 1\n",
      "Updating dict\n",
      "Clash2 1,0,0,1,0,1,1 5 9 1\n",
      "Updating dict\n"
     ]
    }
   ],
   "source": [
    "dict = {}\n",
    "for indx in range(len(leds)):\n",
    "    (seg1, seg2) = least_imp_segs[indx]\n",
    "    led = leds[indx]\n",
    "    v = led[seg1]\n",
    "    led[seg1] = 0\n",
    "    led_str = stringify_array(led)\n",
    "    if dict.__contains__(led_str):\n",
    "        print(\"Clash1\", led_str, dict.get(led_str), indx, seg1)\n",
    "        if leds_relative_importance[dict.get(led_str)][seg1] < leds_relative_importance[indx][seg1]:\n",
    "            print(\"Updating dict\")\n",
    "            dict[led_str] = indx\n",
    "    else:\n",
    "        dict[led_str] = indx\n",
    "    led[seg1] = v\n",
    "    \n",
    "    v = led[seg2]\n",
    "    led[seg2] = 0\n",
    "    led_str = stringify_array(led)\n",
    "    if dict.__contains__(led_str):\n",
    "        print(\"Clash2\", led_str, dict.get(led_str), indx, seg2)\n",
    "        if leds_relative_importance[dict.get(led_str)][seg2] < leds_relative_importance[indx][seg2]:\n",
    "            print(\"Updating dict\")\n",
    "            dict[led_str] = indx\n",
    "    else:\n",
    "        dict[led_str] = indx\n",
    "    led[seg2] = v\n"
   ]
  },
  {
   "cell_type": "code",
   "execution_count": 50,
   "metadata": {},
   "outputs": [
    {
     "data": {
      "text/plain": [
       "{'0,0,0,0,0,0,0': 1,\n",
       " '0,0,0,0,0,1,0': 4,\n",
       " '0,0,0,0,0,1,1': 4,\n",
       " '0,0,0,1,0,1,1': 5,\n",
       " '0,0,0,1,1,0,1': 2,\n",
       " '0,0,0,1,1,1,1': 6,\n",
       " '0,1,0,0,0,0,0': 1,\n",
       " '1,0,0,0,0,0,0': 7,\n",
       " '1,0,0,1,0,0,1': 3,\n",
       " '1,0,0,1,0,1,1': 9,\n",
       " '1,0,0,1,1,0,1': 2,\n",
       " '1,0,0,1,1,1,0': 0,\n",
       " '1,0,0,1,1,1,1': 8,\n",
       " '1,1,0,0,0,0,0': 7,\n",
       " '1,1,0,1,0,0,1': 3,\n",
       " '1,1,0,1,0,1,1': 9,\n",
       " '1,1,0,1,1,1,0': 0,\n",
       " '1,1,0,1,1,1,1': 8}"
      ]
     },
     "execution_count": 50,
     "metadata": {},
     "output_type": "execute_result"
    }
   ],
   "source": [
    "dict"
   ]
  },
  {
   "cell_type": "code",
   "execution_count": 54,
   "metadata": {
    "scrolled": true
   },
   "outputs": [
    {
     "name": "stdout",
     "output_type": "stream",
     "text": [
      "[array([1, 1, 0, 1, 1, 1, 0, 0])]\n",
      "[array([1, 0, 0, 1, 1, 1, 0, 0])]\n",
      "[array([0, 1, 0, 0, 0, 0, 0, 1])]\n",
      "[array([0, 0, 0, 0, 0, 0, 0, 1])]\n",
      "[array([1, 0, 0, 1, 1, 0, 1, 2])]\n",
      "[array([0, 0, 0, 1, 1, 0, 1, 2])]\n",
      "[array([1, 1, 0, 1, 0, 0, 1, 3])]\n",
      "[array([1, 0, 0, 1, 0, 0, 1, 3])]\n",
      "[array([0, 0, 0, 0, 0, 1, 1, 4])]\n",
      "[array([0, 0, 0, 0, 0, 1, 0, 4])]\n",
      "[array([1, 0, 0, 1, 0, 1, 1, 9])]\n",
      "[array([0, 0, 0, 1, 0, 1, 1, 5])]\n",
      "[array([1, 0, 0, 1, 1, 1, 1, 8])]\n",
      "[array([0, 0, 0, 1, 1, 1, 1, 6])]\n",
      "[array([1, 1, 0, 0, 0, 0, 0, 7])]\n",
      "[array([1, 0, 0, 0, 0, 0, 0, 7])]\n",
      "[array([1, 1, 0, 1, 1, 1, 1, 8])]\n",
      "[array([1, 1, 0, 1, 0, 1, 1, 9])]\n"
     ]
    }
   ],
   "source": [
    "for led_str in dict.keys():\n",
    "    led = np.fromstring(led_str, dtype=int, sep=',')\n",
    "    led = [np.append(led, dict.get(led_str))]\n",
    "    input_data = np.concatenate((input_data, led), axis=0)"
   ]
  },
  {
   "cell_type": "code",
   "execution_count": 55,
   "metadata": {},
   "outputs": [
    {
     "data": {
      "text/plain": [
       "array([[1, 1, 1, 1, 1, 1, 0, 0],\n",
       "       [0, 1, 1, 0, 0, 0, 0, 1],\n",
       "       [1, 1, 0, 1, 1, 0, 1, 2],\n",
       "       [1, 1, 1, 1, 0, 0, 1, 3],\n",
       "       [0, 0, 1, 0, 0, 1, 1, 4],\n",
       "       [1, 0, 1, 1, 0, 1, 1, 5],\n",
       "       [1, 0, 1, 1, 1, 1, 1, 6],\n",
       "       [1, 1, 1, 0, 0, 0, 0, 7],\n",
       "       [1, 1, 1, 1, 1, 1, 1, 8],\n",
       "       [1, 1, 1, 1, 0, 1, 1, 9],\n",
       "       [1, 1, 0, 1, 1, 1, 0, 0],\n",
       "       [1, 0, 0, 1, 1, 1, 0, 0],\n",
       "       [0, 1, 0, 0, 0, 0, 0, 1],\n",
       "       [0, 0, 0, 0, 0, 0, 0, 1],\n",
       "       [1, 0, 0, 1, 1, 0, 1, 2],\n",
       "       [0, 0, 0, 1, 1, 0, 1, 2],\n",
       "       [1, 1, 0, 1, 0, 0, 1, 3],\n",
       "       [1, 0, 0, 1, 0, 0, 1, 3],\n",
       "       [0, 0, 0, 0, 0, 1, 1, 4],\n",
       "       [0, 0, 0, 0, 0, 1, 0, 4],\n",
       "       [1, 0, 0, 1, 0, 1, 1, 9],\n",
       "       [0, 0, 0, 1, 0, 1, 1, 5],\n",
       "       [1, 0, 0, 1, 1, 1, 1, 8],\n",
       "       [0, 0, 0, 1, 1, 1, 1, 6],\n",
       "       [1, 1, 0, 0, 0, 0, 0, 7],\n",
       "       [1, 0, 0, 0, 0, 0, 0, 7],\n",
       "       [1, 1, 0, 1, 1, 1, 1, 8],\n",
       "       [1, 1, 0, 1, 0, 1, 1, 9]])"
      ]
     },
     "execution_count": 55,
     "metadata": {},
     "output_type": "execute_result"
    }
   ],
   "source": [
    "input_data"
   ]
  },
  {
   "cell_type": "code",
   "execution_count": 46,
   "metadata": {},
   "outputs": [
    {
     "data": {
      "text/plain": [
       "'1,1,1,1,1,1,0,0'"
      ]
     },
     "execution_count": 46,
     "metadata": {},
     "output_type": "execute_result"
    }
   ],
   "source": [
    "stringify_array(input_data[0])"
   ]
  },
  {
   "cell_type": "code",
   "execution_count": 47,
   "metadata": {},
   "outputs": [
    {
     "data": {
      "text/plain": [
       "array([1, 1, 1, 1, 1, 1, 0, 0])"
      ]
     },
     "execution_count": 47,
     "metadata": {},
     "output_type": "execute_result"
    }
   ],
   "source": [
    "np.fromstring(stringify_array(input_data[0]), dtype=int, sep=',')"
   ]
  },
  {
   "cell_type": "code",
   "execution_count": null,
   "metadata": {},
   "outputs": [],
   "source": []
  }
 ],
 "metadata": {
  "kernelspec": {
   "display_name": "Python 3",
   "language": "python",
   "name": "python3"
  },
  "language_info": {
   "codemirror_mode": {
    "name": "ipython",
    "version": 3
   },
   "file_extension": ".py",
   "mimetype": "text/x-python",
   "name": "python",
   "nbconvert_exporter": "python",
   "pygments_lexer": "ipython3",
   "version": "3.6.4"
  }
 },
 "nbformat": 4,
 "nbformat_minor": 2
}
