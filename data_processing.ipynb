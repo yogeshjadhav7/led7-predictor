{
 "cells": [
  {
   "cell_type": "code",
   "execution_count": 1,
   "metadata": {},
   "outputs": [],
   "source": [
    "import os\n",
    "import pandas as pd\n",
    "import numpy as np\n",
    "import warnings\n",
    "warnings.filterwarnings(\"ignore\")\n",
    "\n",
    "addedToTrainingData = False\n",
    "DATA_COLUMNS = [\"A\",\"B\",\"C\",\"D\",\"E\",\"F\",\"G\",\"DIGIT\"]\n",
    "leds = np.array([[1,1,1,1,1,1,0],\n",
    "                     [0,1,1,0,0,0,0],\n",
    "                     [1,1,0,1,1,0,1],\n",
    "                     [1,1,1,1,0,0,1],\n",
    "                     [0,0,1,0,0,1,1],\n",
    "                     [1,0,1,1,0,1,1],\n",
    "                     [1,0,1,1,1,1,1],\n",
    "                     [1,1,1,0,0,0,0],\n",
    "                     [1,1,1,1,1,1,1],\n",
    "                     [1,1,1,1,0,1,1]\n",
    "                    ])\n",
    "\n",
    "input_data = []\n",
    "for indx in range(len(leds)):\n",
    "    led = [np.append(leds[indx], indx)]\n",
    "    if len(input_data) == 0:\n",
    "        input_data = led\n",
    "    else:\n",
    "        input_data = np.concatenate((input_data, led), axis=0)"
   ]
  },
  {
   "cell_type": "code",
   "execution_count": 2,
   "metadata": {},
   "outputs": [],
   "source": [
    "leds_strength = np.sum(leds, axis=1)"
   ]
  },
  {
   "cell_type": "code",
   "execution_count": 3,
   "metadata": {},
   "outputs": [],
   "source": [
    "leds_importance = np.divide(leds, leds_strength[:,None])\n",
    "total_leds_importance = np.sum(leds_importance, axis=0)"
   ]
  },
  {
   "cell_type": "code",
   "execution_count": 4,
   "metadata": {},
   "outputs": [],
   "source": [
    "leds_relative_importance = np.divide(leds_importance, total_leds_importance)"
   ]
  },
  {
   "cell_type": "code",
   "execution_count": 5,
   "metadata": {},
   "outputs": [],
   "source": [
    "def find_2_least_important_segments(l):\n",
    "    leds = l.copy()\n",
    "    leds[leds == 0] = 2\n",
    "    least_important_segments = []\n",
    "    for indx in range(len(leds)):\n",
    "        led = leds[indx]\n",
    "        seg1 = led.argmin()\n",
    "        led[seg1] = 2\n",
    "        seg2 = led.argmin()\n",
    "        least_important_segments.append((seg1, seg2))\n",
    "        \n",
    "    return least_important_segments "
   ]
  },
  {
   "cell_type": "code",
   "execution_count": 6,
   "metadata": {},
   "outputs": [
    {
     "name": "stdout",
     "output_type": "stream",
     "text": [
      "Least imp segments [(2, 1), (2, 1), (1, 0), (2, 1), (2, 6), (2, 0), (2, 0), (2, 1), (2, 1), (2, 1)]\n"
     ]
    }
   ],
   "source": [
    "least_imp_segs = find_2_least_important_segments(leds_relative_importance)\n",
    "print(\"Least imp segments\", least_imp_segs)"
   ]
  },
  {
   "cell_type": "code",
   "execution_count": 7,
   "metadata": {},
   "outputs": [],
   "source": [
    "def stringify_array(arr):\n",
    "    arr = arr.flatten()\n",
    "    array_str = None\n",
    "    for val in arr:\n",
    "        if array_str == None:\n",
    "            array_str = str(val)\n",
    "        else:\n",
    "            array_str = array_str + \",\" + str(val)\n",
    "    \n",
    "    return array_str"
   ]
  },
  {
   "cell_type": "code",
   "execution_count": 8,
   "metadata": {},
   "outputs": [
    {
     "name": "stdout",
     "output_type": "stream",
     "text": [
      "Clash 1,0,0,1,1,1,1 6 8 2 1\n",
      "Clash 1,0,0,1,0,1,1 5 9 2 1\n"
     ]
    }
   ],
   "source": [
    "dict = {}\n",
    "for indx in range(len(leds)):\n",
    "    (seg1, seg2) = least_imp_segs[indx]\n",
    "    led = leds[indx]\n",
    "    v = led[seg1]\n",
    "    led[seg1] = 0\n",
    "    led_str = stringify_array(led)\n",
    "    if dict.__contains__(led_str):\n",
    "        print(\"Clash1\", led_str, dict.get(led_str), indx, seg1)\n",
    "        if leds_relative_importance[dict.get(led_str)][seg1] < leds_relative_importance[indx][seg1]:\n",
    "            print(\"Updating dict\")\n",
    "            dict[led_str] = indx\n",
    "    else:\n",
    "        dict[led_str] = indx\n",
    "    led[seg1] = v\n",
    "    \n",
    "    v = led[seg2]\n",
    "    led[seg2] = 0\n",
    "    led_str = stringify_array(led)\n",
    "    if dict.__contains__(led_str):\n",
    "        print(\"Clash2\", led_str, dict.get(led_str), indx, seg2)\n",
    "        if leds_relative_importance[dict.get(led_str)][seg2] < leds_relative_importance[indx][seg2]:\n",
    "            print(\"Updating dict\")\n",
    "            dict[led_str] = indx\n",
    "    else:\n",
    "        dict[led_str] = indx\n",
    "    led[seg2] = v\n",
    "    \n",
    "    v1 = led[seg1]\n",
    "    v2 = led[seg2]\n",
    "    led[seg1] = 0\n",
    "    led[seg2] = 0\n",
    "    led_str = stringify_array(led)\n",
    "    \n",
    "    if dict.__contains__(led_str):\n",
    "        print(\"Clash\", led_str, dict.get(led_str), indx, seg1, seg2)\n",
    "        if leds_strength[dict.get(led_str)] > leds_strength[indx]:\n",
    "            print(\"Updating dict\")\n",
    "            dict[led_str] = indx\n",
    "    else:\n",
    "        dict[led_str] = indx\n",
    "        \n",
    "    led[seg1] = v1\n",
    "    led[seg2] = v2\n"
   ]
  },
  {
   "cell_type": "code",
   "execution_count": 9,
   "metadata": {
    "scrolled": true
   },
   "outputs": [],
   "source": [
    "validation_data = []\n",
    "for led_str in dict.keys():\n",
    "    led = np.fromstring(led_str, dtype=int, sep=',')\n",
    "    led = [np.append(led, dict.get(led_str))]\n",
    "    \n",
    "    if len(validation_data) == 0:\n",
    "        validation_data = led\n",
    "    else:\n",
    "        validation_data = np.concatenate((validation_data, led), axis=0)\n",
    "    \n",
    "    if addedToTrainingData:\n",
    "        input_data = np.concatenate((input_data, led), axis=0)\n",
    "\n",
    "if not addedToTrainingData:\n",
    "    each = input_data.copy()\n",
    "    input_data = np.concatenate((input_data, each), axis=0)\n",
    "    input_data = np.concatenate((input_data, each), axis=0)"
   ]
  },
  {
   "cell_type": "code",
   "execution_count": 10,
   "metadata": {},
   "outputs": [
    {
     "ename": "TypeError",
     "evalue": "__init__() got an unexpected keyword argument 'index_col'",
     "output_type": "error",
     "traceback": [
      "\u001b[0;31m---------------------------------------------------------------------------\u001b[0m",
      "\u001b[0;31mTypeError\u001b[0m                                 Traceback (most recent call last)",
      "\u001b[0;32m<ipython-input-10-a05754f0da93>\u001b[0m in \u001b[0;36m<module>\u001b[0;34m()\u001b[0m\n\u001b[0;32m----> 1\u001b[0;31m \u001b[0mtrain_data\u001b[0m \u001b[0;34m=\u001b[0m \u001b[0mpd\u001b[0m\u001b[0;34m.\u001b[0m\u001b[0mDataFrame\u001b[0m\u001b[0;34m(\u001b[0m\u001b[0minput_data\u001b[0m\u001b[0;34m,\u001b[0m \u001b[0mcolumns\u001b[0m\u001b[0;34m=\u001b[0m\u001b[0mDATA_COLUMNS\u001b[0m\u001b[0;34m,\u001b[0m \u001b[0mindex_col\u001b[0m\u001b[0;34m=\u001b[0m\u001b[0;32mFalse\u001b[0m\u001b[0;34m)\u001b[0m\u001b[0;34m\u001b[0m\u001b[0m\n\u001b[0m",
      "\u001b[0;31mTypeError\u001b[0m: __init__() got an unexpected keyword argument 'index_col'"
     ]
    }
   ],
   "source": [
    "train_data = pd.DataFrame(input_data, columns=DATA_COLUMNS,)"
   ]
  },
  {
   "cell_type": "code",
   "execution_count": null,
   "metadata": {},
   "outputs": [],
   "source": [
    "test_data = pd.DataFrame(validation_data, columns=DATA_COLUMNS)"
   ]
  },
  {
   "cell_type": "code",
   "execution_count": null,
   "metadata": {},
   "outputs": [],
   "source": [
    "train_data.head()"
   ]
  },
  {
   "cell_type": "code",
   "execution_count": null,
   "metadata": {},
   "outputs": [],
   "source": [
    "test_data.head()"
   ]
  },
  {
   "cell_type": "code",
   "execution_count": null,
   "metadata": {},
   "outputs": [],
   "source": [
    "def find_all_cases(arr):\n",
    "    if len(arr) == 7:\n",
    "        return [arr]\n",
    "    \n",
    "    return np.concatenate((find_all_cases(np.append(arr, 0)),\n",
    "    find_all_cases(np.append(arr, 1))), axis=0)\n",
    "    \n",
    "seed_arr = []\n",
    "all_cases_input_data = pd.DataFrame(np.int32(find_all_cases(seed_arr)), columns = DATA_COLUMNS[0 : len(DATA_COLUMNS) - 1])\n"
   ]
  },
  {
   "cell_type": "code",
   "execution_count": null,
   "metadata": {},
   "outputs": [],
   "source": [
    "all_cases_input_data.head()"
   ]
  },
  {
   "cell_type": "code",
   "execution_count": null,
   "metadata": {},
   "outputs": [],
   "source": [
    "all_cases_input_data.to_csv(\"all_cases_input_data.csv\", sep=',', index_label=False)"
   ]
  },
  {
   "cell_type": "code",
   "execution_count": null,
   "metadata": {},
   "outputs": [],
   "source": [
    "train_data.to_csv(\"train_data.csv\", sep=',', index_label=False)"
   ]
  },
  {
   "cell_type": "code",
   "execution_count": null,
   "metadata": {},
   "outputs": [],
   "source": [
    "test_data.to_csv(\"test_data.csv\", sep=',', index_label=False)"
   ]
  },
  {
   "cell_type": "code",
   "execution_count": null,
   "metadata": {},
   "outputs": [],
   "source": [
    "train_data.head()"
   ]
  }
 ],
 "metadata": {
  "kernelspec": {
   "display_name": "Python 3",
   "language": "python",
   "name": "python3"
  },
  "language_info": {
   "codemirror_mode": {
    "name": "ipython",
    "version": 3
   },
   "file_extension": ".py",
   "mimetype": "text/x-python",
   "name": "python",
   "nbconvert_exporter": "python",
   "pygments_lexer": "ipython3",
   "version": "3.6.4"
  }
 },
 "nbformat": 4,
 "nbformat_minor": 2
}
